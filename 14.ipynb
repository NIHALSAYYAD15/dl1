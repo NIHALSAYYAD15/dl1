{
 "cells": [
  {
   "cell_type": "markdown",
   "id": "969236f4-f10a-4250-8e41-529ed82aadc2",
   "metadata": {},
   "source": [
    "## 14 Using a pre-trained Imagenet network to predict images into one of the 1000 Imagenet classes "
   ]
  },
  {
   "cell_type": "markdown",
   "id": "d9bdbdd5-5d2e-4ca7-a369-2b5686d1e418",
   "metadata": {},
   "source": [
    "#   https://www.analyticsvidhya.com/blog/2020/02/learn-image-classification-cnn-convolutional-neural-networks-3-datasets/"
   ]
  },
  {
   "cell_type": "markdown",
   "id": "5c8830bf-addb-4204-bd0a-a19148bffe05",
   "metadata": {},
   "source": [
    "Fast.ai‘s Imagenette Dataset\r\n",
    "Imagenette is a dataset that’s extracted from the large ImageNet collection of images. The reason behind releasing Imagenette is that researchers and students can practice on ImageNet-level images without needing that many computing resources.g:"
   ]
  },
  {
   "cell_type": "markdown",
   "id": "e440cf03-6d5b-4348-85f4-99f68487c6b9",
   "metadata": {},
   "source": [
    "## Step 1: Download the Imagenette dataset\n",
    "## https://s3.amazonaws.com/fast-ai-imageclas/imagenette2.tgz"
   ]
  },
  {
   "cell_type": "code",
   "execution_count": null,
   "id": "e2186fb9-9448-4076-b410-aa226a75cbc5",
   "metadata": {},
   "outputs": [],
   "source": []
  },
  {
   "cell_type": "code",
   "execution_count": 6,
   "id": "fe898da8-f9d3-45c5-b079-8ba786ee34b5",
   "metadata": {},
   "outputs": [
    {
     "name": "stdout",
     "output_type": "stream",
     "text": [
      "1/1 [==============================] - 1s 1s/step\n",
      "n02808304: bath_towel (0.36)\n",
      "n03045698: cloak (0.13)\n",
      "n03775071: mitten (0.06)\n",
      "n03026506: Christmas_stocking (0.05)\n",
      "n12620546: hip (0.04)\n"
     ]
    }
   ],
   "source": [
    "from tensorflow.keras.applications import ResNet50\n",
    "from tensorflow.keras.preprocessing import image\n",
    "from tensorflow.keras.applications.resnet50 import preprocess_input, decode_predictions\n",
    "import numpy as np\n",
    "\n",
    "# Load a pre-trained ResNet50 model\n",
    "model = ResNet50(weights='imagenet')\n",
    "\n",
    "# Define your custom image preprocessing function (for your specific dataset)\n",
    "def preprocess_custom_image(image_path):\n",
    "    # Load and preprocess your custom image\n",
    "    img = image.load_img(image_path, target_size=(224, 224))\n",
    "    x = image.img_to_array(img)\n",
    "    x = np.expand_dims(x, axis=0)\n",
    "    x = preprocess_input(x)\n",
    "    return x\n",
    "\n",
    "# Load and preprocess a custom image for classification\n",
    "custom_image_path = 'flower.jpg'  # Replace with your image path\n",
    "custom_image = preprocess_custom_image(custom_image_path)\n",
    "\n",
    "# Make predictions using the pre-trained model\n",
    "predictions = model.predict(custom_image)\n",
    "\n",
    "# Decode the predictions to human-readable labels\n",
    "decoded_predictions = decode_predictions(predictions, top=5)[0]\n",
    "\n",
    "# Print the top predicted labels and their associated probabilities\n",
    "for label, description, probability in decoded_predictions:\n",
    "    print(f\"{label}: {description} ({probability:.2f})\")"
   ]
  },
  {
   "cell_type": "code",
   "execution_count": null,
   "id": "6c97a1f6-6e46-43f0-966f-c420818af1f4",
   "metadata": {},
   "outputs": [],
   "source": []
  }
 ],
 "metadata": {
  "kernelspec": {
   "display_name": "Python 3 (ipykernel)",
   "language": "python",
   "name": "python3"
  },
  "language_info": {
   "codemirror_mode": {
    "name": "ipython",
    "version": 3
   },
   "file_extension": ".py",
   "mimetype": "text/x-python",
   "name": "python",
   "nbconvert_exporter": "python",
   "pygments_lexer": "ipython3",
   "version": "3.11.4"
  }
 },
 "nbformat": 4,
 "nbformat_minor": 5
}
