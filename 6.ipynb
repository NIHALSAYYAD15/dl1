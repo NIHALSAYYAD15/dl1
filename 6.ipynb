{
 "cells": [
  {
   "cell_type": "markdown",
   "id": "9b643088-2ce2-4c38-9f7d-bc00436507c4",
   "metadata": {},
   "source": [
    "### #6 :- Forward pass with matrix multiplication Forward pass with hidden layer (matrix multiplication)  Forward pass with matrix multiplication with Keras Forward passes with hidden layer (matx\n",
    " multiplication) with Keras. s.ediction}\"main()\r\n"
   ]
  },
  {
   "cell_type": "markdown",
   "id": "ee293c74-6c6f-466b-9fad-e5d50277a8e7",
   "metadata": {},
   "source": [
    "1) Forward Pass with Matrix Multiplication in Keras (Single-Layer Neural Network). \n",
    "2) Define a Keras model with a single layer: model \n",
    "3) To perform the forward pass and obtain the output. \n",
    "4) Forward Pass with Hidden Layer in Keras (Multi-Layer Neural Network): \n",
    "5) Create input data. \n",
    "6) Define a Keras model with a hidden layer and an output layer. \n",
    "7) To perform the forward pass and obtain the output. "
   ]
  },
  {
   "cell_type": "code",
   "execution_count": 1,
   "id": "a67615b8-9387-4bd5-8a9e-5ca7a0d88323",
   "metadata": {},
   "outputs": [
    {
     "name": "stdout",
     "output_type": "stream",
     "text": [
      "Output without hidden layer:\n",
      "[[0.7 1. ]\n",
      " [1.5 2.2]\n",
      " [2.3 3.4]]\n"
     ]
    }
   ],
   "source": [
    "# 1. Forward Pass with Matrix Multiplication (Without Hidden Layer)\n",
    "\n",
    "import numpy as np\n",
    "\n",
    "# Input data (a 3x2 matrix)\n",
    "input_data = np.array([[1, 2],\n",
    "                       [3, 4], \n",
    "                       [5, 6]])\n",
    "# Weight matrix (a 2x2 matrix) \n",
    "weights = np.array([[0.1, 0.2], \n",
    "                    [0.3, 0.4]])\n",
    "\n",
    "# Forward pass without a hidden Layer (matrix multiplication) \n",
    "output_data = np.dot (input_data, weights)\n",
    "\n",
    "print(\"Output without hidden layer:\") \n",
    "print(output_data)"
   ]
  },
  {
   "cell_type": "code",
   "execution_count": 2,
   "id": "edc532ce-a2fc-428a-85be-45f7ea609769",
   "metadata": {},
   "outputs": [
    {
     "name": "stdout",
     "output_type": "stream",
     "text": [
      "Output with hidden layer: \n",
      "[[1.05 1.22]\n",
      " [2.29 2.66]\n",
      " [3.53 4.1 ]]\n"
     ]
    }
   ],
   "source": [
    "# 2. Forward Pass with Hidden Layer (Matrix Multiplication)\n",
    "import numpy as np\n",
    "\n",
    "# Input data (a 3x2 matrix) \n",
    "input_data = np.array([[1, 2], [3, 4], [5, 6]])\n",
    "\n",
    "# Weight matrices (2 hidden units, 2 input features) \n",
    "weights_hidden = np.array([[0.1, 0.2], [0.3, 0.4]])\n",
    "\n",
    "# Weight matrices (2 output units, 2 hidden units) \n",
    "weights_output = np.array([[0.5, 0.6], [0.7, 0.8]])\n",
    "\n",
    "# Forward pass with a hidden Layer (matrix multiplication) \n",
    "hidden_layer_output = np.dot (input_data, weights_hidden)\n",
    "output_data = np.dot (hidden_layer_output, weights_output)\n",
    "\n",
    "print(\"Output with hidden layer: \")\n",
    "print (output_data)"
   ]
  },
  {
   "cell_type": "code",
   "execution_count": 3,
   "id": "2afba187-5a09-4838-8413-eed0cb13c246",
   "metadata": {},
   "outputs": [
    {
     "name": "stdout",
     "output_type": "stream",
     "text": [
      "1/1 [==============================] - 1s 526ms/step\n",
      "Output with Keras: \n",
      "[[0.6689358  0.38194644]\n",
      " [0.69333285 0.39228296]\n",
      " [0.697369   0.39166784]]\n"
     ]
    }
   ],
   "source": [
    "#3. Forward Pass with Matrix Multiplication using Keras:\n",
    "\n",
    "import numpy as np \n",
    "from keras.models import Sequential \n",
    "from keras.layers import Dense\n",
    "\n",
    "# Input data (a 3x2 matrix)\n",
    "input_data = np.array([[1, 2],\n",
    "                        [3, 4],\n",
    "                        [5, 6]])\n",
    "\n",
    "# Define the Keras model\n",
    "model = Sequential() \n",
    "model.add(Dense (units=2, input_dim=2, activation='sigmoid')) \n",
    "model.add(Dense (units=2, activation='sigmoid'))\n",
    "\n",
    "#Weight matrices will be automatically initialized by Keras\n",
    "\n",
    "# Perform the forward pass using Keras \n",
    "\n",
    "output_data = model.predict(input_data)\n",
    "\n",
    "print(\"Output with Keras: \") \n",
    "print (output_data)"
   ]
  },
  {
   "cell_type": "code",
   "execution_count": 4,
   "id": "7fbd6007-3653-46b0-be10-0ea1b4de9b0c",
   "metadata": {},
   "outputs": [
    {
     "name": "stdout",
     "output_type": "stream",
     "text": [
      "1/1 [==============================] - 0s 123ms/step\n",
      "Output with Keras: \n",
      "[[0.4521883  0.70588464]\n",
      " [0.44500342 0.7318783 ]\n",
      " [0.4404269  0.74676627]]\n"
     ]
    }
   ],
   "source": [
    "#4. Forward Pass with hidden layer  (Matrix Multiplication) using Keras:\n",
    "\n",
    "import numpy as np \n",
    "from keras.models import Sequential \n",
    "from keras.layers import Dense\n",
    "\n",
    "# Input data (a 3x2 matrix)\n",
    "input_data = np.array([[1, 2],\n",
    "                        [3, 4],\n",
    "                        [5, 6]])\n",
    "\n",
    "# Define the Keras model\n",
    "model = Sequential() \n",
    "\n",
    "# Add a hidden Layer with 2 units and input dimension 2, using matrix multiplication \n",
    "model.add(Dense (units=2, input_dim=2, activation='sigmoid'))\n",
    "\n",
    "# Add the output Layer with 2 units, also using matrix multiplication \n",
    "model.add(Dense (units=2, activation='sigmoid'))\n",
    "\n",
    "#Weight matrices will be automatically initialized by Keras\n",
    "\n",
    "# Perform the forward pass using Keras \n",
    "\n",
    "output_data = model.predict(input_data)\n",
    "\n",
    "print(\"Output with Keras: \") \n",
    "print (output_data)"
   ]
  },
  {
   "cell_type": "code",
   "execution_count": null,
   "id": "a3c8b324-e3e5-44c4-8c6a-8dff6d2da783",
   "metadata": {},
   "outputs": [],
   "source": []
  },
  {
   "cell_type": "code",
   "execution_count": null,
   "id": "eaae758c-2b28-49ff-a266-6f0f30dbdac8",
   "metadata": {},
   "outputs": [],
   "source": []
  },
  {
   "cell_type": "code",
   "execution_count": null,
   "id": "68e49070-c2f1-496e-bdf4-5a5a50129283",
   "metadata": {},
   "outputs": [],
   "source": []
  },
  {
   "cell_type": "code",
   "execution_count": null,
   "id": "b97a09b1-9097-4fe6-b760-826f650d60e8",
   "metadata": {},
   "outputs": [],
   "source": []
  }
 ],
 "metadata": {
  "kernelspec": {
   "display_name": "Python 3 (ipykernel)",
   "language": "python",
   "name": "python3"
  },
  "language_info": {
   "codemirror_mode": {
    "name": "ipython",
    "version": 3
   },
   "file_extension": ".py",
   "mimetype": "text/x-python",
   "name": "python",
   "nbconvert_exporter": "python",
   "pygments_lexer": "ipython3",
   "version": "3.11.4"
  }
 },
 "nbformat": 4,
 "nbformat_minor": 5
}
