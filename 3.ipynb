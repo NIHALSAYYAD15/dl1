{
 "cells": [
  {
   "cell_type": "markdown",
   "id": "5748d318-ad94-4377-9a10-3c35cd6e370b",
   "metadata": {},
   "source": [
    "### Linear Algebra Tensors - Tensor Arithmetic ( Implementing matrix multiplication )"
   ]
  },
  {
   "cell_type": "code",
   "execution_count": 4,
   "id": "7ef538c6-5272-4b5e-80f9-4eb27973b5ea",
   "metadata": {},
   "outputs": [
    {
     "name": "stdout",
     "output_type": "stream",
     "text": [
      "tensor_a\n",
      " [[1 2]\n",
      " [3 4]]\n",
      "tensor_b\n",
      " [[5 6]\n",
      " [7 8]]\n"
     ]
    }
   ],
   "source": [
    "# Using Numpy\n",
    "\n",
    "import numpy as np\n",
    "# 1-D tensor (vector) \n",
    "vector = np.array([1, 2, 3])\n",
    "\n",
    "# 2-D tensor (matrix) \n",
    "matrix = np.array([[1, 2], [3, 4]])\n",
    "\n",
    "# 3-D tensor \n",
    "tensor_3d = np.array([[[1, 2], [3, 4]], [[5, 6], [7, 8]]])\n",
    "\n",
    "# Create tensors (multi-dimensional arrays) using NumPy\n",
    "a = np.array([[1, 2], [3, 4]])\n",
    "b = np.array([[5, 6], [7, 8]])\n",
    "print('tensor_a\\n',a)\n",
    "print('tensor_b\\n',b)"
   ]
  },
  {
   "cell_type": "code",
   "execution_count": 5,
   "id": "5103a4bf-b841-4859-8899-bb396cad3303",
   "metadata": {},
   "outputs": [
    {
     "name": "stdout",
     "output_type": "stream",
     "text": [
      "Sum of tensors:\n",
      " [[ 6  8]\n",
      " [10 12]]\n",
      "\n",
      "Scalar multiplication:\n",
      " [[2 4]\n",
      " [6 8]]\n",
      "\n",
      "Element-wise multiplication:\n",
      " [[ 5 12]\n",
      " [21 32]]\n",
      "\n",
      "Matrix multiplication:\n",
      " [[19 22]\n",
      " [43 50]]\n"
     ]
    }
   ],
   "source": [
    "# Addition\n",
    "tensor_sum = a + b\n",
    "print(\"Sum of tensors:\\n\",tensor_sum)\n",
    "\n",
    "# Scalar multiplication\n",
    "scalar = 2\n",
    "tensor_scaled = scalar * a\n",
    "print(\"\\nScalar multiplication:\\n\",tensor_scaled)\n",
    "\n",
    "# Element-wise multiplication\n",
    "tensor_product = np.multiply(a,b) #a*b\n",
    "print(\"\\nElement-wise multiplication:\\n\",tensor_product)\n",
    "\n",
    "#matrix multiplication\n",
    "dot_product=a@b # equivalent to np.dot(a,b)\n",
    "print(\"\\nMatrix multiplication:\\n\",dot_product)"
   ]
  },
  {
   "cell_type": "code",
   "execution_count": null,
   "id": "0c638239-6e19-4e15-b0c5-4be719e38bf8",
   "metadata": {},
   "outputs": [],
   "source": []
  },
  {
   "cell_type": "code",
   "execution_count": 6,
   "id": "b11c7044-8550-4ac2-9f34-8431403a2d20",
   "metadata": {},
   "outputs": [
    {
     "name": "stdout",
     "output_type": "stream",
     "text": [
      "Sum of tensors:\n",
      " tf.Tensor(\n",
      "[[ 6  8]\n",
      " [10 12]], shape=(2, 2), dtype=int32)\n",
      "Scalar multiplication:\n",
      " tf.Tensor(\n",
      "[[2 4]\n",
      " [6 8]], shape=(2, 2), dtype=int32)\n",
      "\n",
      "Element-wise multiplication:\n",
      " tf.Tensor(\n",
      "[[ 5 12]\n",
      " [21 32]], shape=(2, 2), dtype=int32)\n",
      "\n",
      "Dot Product:\n",
      " tf.Tensor(\n",
      "[[19 22]\n",
      " [43 50]], shape=(2, 2), dtype=int32)\n"
     ]
    }
   ],
   "source": [
    "# Using Tensorflow\n",
    "\n",
    "import tensorflow as tf\n",
    "\n",
    "# Create tensors using TensorFlow\n",
    "tensor_a = tf.constant([[1, 2], [3, 4]])\n",
    "tensor_b = tf.constant([[5, 6], [7, 8]])\n",
    "\n",
    "# Addition\n",
    "tensor_sum = tf.math.add(tensor_a, tensor_b)\n",
    "print(\"Sum of tensors:\\n\",tensor_sum)\n",
    "\n",
    "# Scalar multiplication\n",
    "scalar = 2\n",
    "tensor_scaled = tf.math.scalar_mul(scalar, tensor_a)\n",
    "print(\"Scalar multiplication:\\n\",tensor_scaled)\n",
    "\n",
    "# Element-wise multiplication\n",
    "tensor_product = tf.math.multiply(tensor_a, tensor_b)\n",
    "print(\"\\nElement-wise multiplication:\\n\",tensor_product)\n",
    "\n",
    "#dot product\n",
    "dot_product = tf.linalg.matmul(tensor_a, tensor_b)\n",
    "print(\"\\nDot Product:\\n\",dot_product)"
   ]
  },
  {
   "cell_type": "code",
   "execution_count": null,
   "id": "b7cd685b-b2d9-4609-b406-7277ec79ca17",
   "metadata": {},
   "outputs": [],
   "source": []
  },
  {
   "cell_type": "code",
   "execution_count": null,
   "id": "e020ea64-f2d6-4f10-96a9-1a54b9d49880",
   "metadata": {},
   "outputs": [],
   "source": []
  }
 ],
 "metadata": {
  "kernelspec": {
   "display_name": "Python 3 (ipykernel)",
   "language": "python",
   "name": "python3"
  },
  "language_info": {
   "codemirror_mode": {
    "name": "ipython",
    "version": 3
   },
   "file_extension": ".py",
   "mimetype": "text/x-python",
   "name": "python",
   "nbconvert_exporter": "python",
   "pygments_lexer": "ipython3",
   "version": "3.11.4"
  }
 },
 "nbformat": 4,
 "nbformat_minor": 5
}
