{
 "cells": [
  {
   "cell_type": "markdown",
   "id": "474560c7-d008-4b40-b2a6-37a0cfd25458",
   "metadata": {},
   "source": [
    "### Title :- Data Preprocessing Reading the Dataset Handling Missing Data Conversion to the Tensor Format."
   ]
  },
  {
   "cell_type": "markdown",
   "id": "17de8e50-035a-4ba3-8ad6-1bd08c9bfb4f",
   "metadata": {},
   "source": [
    "Step 1) Reading the Dataset:"
   ]
  },
  {
   "cell_type": "markdown",
   "id": "b46af171-c911-42c8-b05c-d481958a8c77",
   "metadata": {},
   "source": [
    "          name  age  gender  salary\n",
    "0     John Doe   30    Male   60000\n",
    "1   Jane Smith   25  Female   55000\n",
    "2  Bob Johnson   35    Male   75000\n",
    "3  Alice Brown   28  Female   62000\n",
    "4  Michael Lee   32    Male   68000\n",
    "5   Ella Davis   29  Female   58000 \n",
    "\n",
    "save this as data exp3.csv"
   ]
  },
  {
   "cell_type": "code",
   "execution_count": 1,
   "id": "39b0e13b-0b8e-4232-890c-7b5d1dc162ac",
   "metadata": {},
   "outputs": [
    {
     "name": "stdout",
     "output_type": "stream",
     "text": [
      "          name  age  gender  salary\n",
      "0     John Doe   30    Male   60000\n",
      "1   Jane Smith   25  Female   55000\n",
      "2  Bob Johnson   35    Male   75000\n",
      "3  Alice Brown   28  Female   62000\n",
      "4  Michael Lee   32    Male   68000\n",
      "5   Ella Davis   29  Female   58000\n"
     ]
    }
   ],
   "source": [
    "import pandas as pd\n",
    "#Read a CSV file into a Pandas DataFrame \n",
    "df = pd.read_csv(\"2exp.csv\") \n",
    "print(df)"
   ]
  },
  {
   "cell_type": "markdown",
   "id": "af12c1d4-99ef-4565-8583-17f8eeb20733",
   "metadata": {},
   "source": [
    "Step 2) Handling Missing Data: \n"
   ]
  },
  {
   "cell_type": "code",
   "execution_count": 2,
   "id": "34cba470-5d4a-4554-b24e-53e2b36f0116",
   "metadata": {},
   "outputs": [
    {
     "name": "stdout",
     "output_type": "stream",
     "text": [
      "name      0\n",
      "age       0\n",
      "gender    0\n",
      "salary    0\n",
      "dtype: int64\n",
      "          name  age  gender  salary\n",
      "0     John Doe   30       1   60000\n",
      "1   Jane Smith   25       0   55000\n",
      "2  Bob Johnson   35       1   75000\n",
      "3  Alice Brown   28       0   62000\n",
      "4  Michael Lee   32       1   68000\n",
      "5   Ella Davis   29       0   58000\n"
     ]
    }
   ],
   "source": [
    "# Check for missing values in the DataFrame \n",
    "print(df.isnull().sum())\n",
    "# Option 1: Drop rows with missing values \n",
    "#df = df.drop()\n",
    "\n",
    "#Option 2: Fill missing values with a specific value (e.g., mean, median, or custom value) \n",
    "mean_age= df['age'].mean() \n",
    "df['age'].fillna(mean_age, inplace=True) \n",
    "#df = pd.DataFrame(df)\n",
    "\n",
    "df[\"gender\"] = df [\"gender\"].map({'Male':1, 'Female':0}) \n",
    "print(df)"
   ]
  },
  {
   "cell_type": "markdown",
   "id": "733de39e-f242-4ecb-99fe-788cbb19243f",
   "metadata": {},
   "source": [
    "Step 3) Conversion to the Tensor Format:"
   ]
  },
  {
   "cell_type": "code",
   "execution_count": 5,
   "id": "7734d12c-0b6e-4b85-bccb-d75175e49f0a",
   "metadata": {},
   "outputs": [
    {
     "name": "stdout",
     "output_type": "stream",
     "text": [
      "\n",
      " X tensor \n",
      " tf.Tensor(\n",
      "[[30.  1.]\n",
      " [25.  0.]\n",
      " [35.  1.]\n",
      " [28.  0.]\n",
      " [32.  1.]\n",
      " [29.  0.]], shape=(6, 2), dtype=float32)\n",
      "\n",
      " Y tensor\n",
      " tf.Tensor([60000 55000 75000 62000 68000 58000], shape=(6,), dtype=int32)\n"
     ]
    }
   ],
   "source": [
    "import numpy as np \n",
    "import tensorflow as tf\n",
    "\n",
    "# Extract features and Labels from the DataFrame \n",
    "X=df[['age', 'gender']].values \n",
    "y=df['salary'].values\n",
    "\n",
    "# Convert to TensorFlow tensors\n",
    "X_tensor = tf.constant(X, dtype=tf.float32)\n",
    "y_tensor = tf.constant(y, dtype=tf.int32)\n",
    "\n",
    "print(\"\\n X tensor \\n\",X_tensor) \n",
    "print(\"\\n Y tensor\\n\",y_tensor)"
   ]
  },
  {
   "cell_type": "code",
   "execution_count": 4,
   "id": "a2bb69b7-072e-49b6-97d7-7fed9e777693",
   "metadata": {},
   "outputs": [
    {
     "name": "stdout",
     "output_type": "stream",
     "text": [
      "\n",
      " X tensor \n",
      " tf.Tensor(\n",
      "[[30.  1.]\n",
      " [25.  0.]\n",
      " [35.  1.]\n",
      " [28.  0.]\n",
      " [32.  1.]\n",
      " [29.  0.]], shape=(6, 2), dtype=float32)\n",
      "\n",
      " Y tensor\n",
      " tf.Tensor([60000 55000 75000 62000 68000 58000], shape=(6,), dtype=int32)\n"
     ]
    }
   ],
   "source": [
    "# Alternatively, you can use NumPy arrays directly as TensorFlow tensors \n",
    "\n",
    "X_tensor = tf.convert_to_tensor (X, dtype=tf.float32)\n",
    "y_tensor = tf.convert_to_tensor (y, dtype=tf.int32)\n",
    "print(\"\\n X tensor \\n\",X_tensor) \n",
    "print(\"\\n Y tensor\\n\",y_tensor)"
   ]
  },
  {
   "cell_type": "code",
   "execution_count": null,
   "id": "ed927fd9-461d-42dc-bb2b-bef3cb643628",
   "metadata": {},
   "outputs": [],
   "source": []
  },
  {
   "cell_type": "code",
   "execution_count": null,
   "id": "cfbeaf35-a628-4e3b-84ee-41faa17901e7",
   "metadata": {},
   "outputs": [],
   "source": []
  }
 ],
 "metadata": {
  "kernelspec": {
   "display_name": "Python 3 (ipykernel)",
   "language": "python",
   "name": "python3"
  },
  "language_info": {
   "codemirror_mode": {
    "name": "ipython",
    "version": 3
   },
   "file_extension": ".py",
   "mimetype": "text/x-python",
   "name": "python",
   "nbconvert_exporter": "python",
   "pygments_lexer": "ipython3",
   "version": "3.11.4"
  }
 },
 "nbformat": 4,
 "nbformat_minor": 5
}
