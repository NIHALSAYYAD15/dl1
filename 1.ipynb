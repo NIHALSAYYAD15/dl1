{
 "cells": [
  {
   "cell_type": "markdown",
   "id": "75adc1b9-cc65-4eb2-bd88-f70675caa9cc",
   "metadata": {},
   "source": [
    "### Title :- Data Manipulation (Numpy library) Operations Broadcasting Indexing and slicing."
   ]
  },
  {
   "cell_type": "code",
   "execution_count": 1,
   "id": "363cac51-d6a0-4e73-9c63-cacef66af703",
   "metadata": {},
   "outputs": [],
   "source": [
    "import numpy as np\n",
    "import pandas as pd"
   ]
  },
  {
   "cell_type": "code",
   "execution_count": 2,
   "id": "d7a62eee-2a44-4be6-9d4c-864bbab2ff78",
   "metadata": {},
   "outputs": [],
   "source": [
    "# Load your dataset from a CSV file\n",
    "# Replace 'your_dataset.csv' with your actual dataset filename\n",
    "data = pd.read_csv('1exp.csv')"
   ]
  },
  {
   "cell_type": "code",
   "execution_count": 3,
   "id": "846fbc5a-4d75-4494-8671-02d16ff3d7a4",
   "metadata": {},
   "outputs": [
    {
     "name": "stdout",
     "output_type": "stream",
     "text": [
      "Head of the dataset:\n",
      "   Column_A  Column_B  Column_C\n",
      "0         1      10.0     100.0\n",
      "1         2      20.0     200.0\n",
      "2         3      30.0     300.0\n",
      "3         4      40.0     400.0\n",
      "4         5      50.0     500.0\n"
     ]
    }
   ],
   "source": [
    "# Display the head of the dataset\n",
    "print(\"Head of the dataset:\")\n",
    "print(data.head())"
   ]
  },
  {
   "cell_type": "code",
   "execution_count": 4,
   "id": "a9c80b38-d410-4ede-88c9-efeb65bdb5b5",
   "metadata": {},
   "outputs": [
    {
     "name": "stdout",
     "output_type": "stream",
     "text": [
      "\n",
      "Tail of the dataset:\n",
      "    Column_A  Column_B  Column_C\n",
      "10        11       NaN    1100.0\n",
      "11        12     120.0    1200.0\n",
      "12        13     130.0    1300.0\n",
      "13        14     140.0    1400.0\n",
      "14        15     150.0    1500.0\n"
     ]
    }
   ],
   "source": [
    "# Display the tail of the dataset\n",
    "print(\"\\nTail of the dataset:\")\n",
    "print(data.tail())"
   ]
  },
  {
   "cell_type": "code",
   "execution_count": 5,
   "id": "f4d7c6f5-7821-4bab-a2f6-68402e708aa3",
   "metadata": {},
   "outputs": [
    {
     "name": "stdout",
     "output_type": "stream",
     "text": [
      "\n",
      "Size of the dataset: 45\n"
     ]
    }
   ],
   "source": [
    "# Display the size of the dataset\n",
    "print(f\"\\nSize of the dataset: {data.size}\")"
   ]
  },
  {
   "cell_type": "code",
   "execution_count": 6,
   "id": "0df9facc-0a84-4ac7-b8df-d72defd1662d",
   "metadata": {},
   "outputs": [
    {
     "name": "stdout",
     "output_type": "stream",
     "text": [
      "\n",
      "Column A:\n",
      "0      1\n",
      "1      2\n",
      "2      3\n",
      "3      4\n",
      "4      5\n",
      "5      6\n",
      "6      7\n",
      "7      8\n",
      "8      9\n",
      "9     10\n",
      "10    11\n",
      "11    12\n",
      "12    13\n",
      "13    14\n",
      "14    15\n",
      "Name: Column_A, dtype: int64\n"
     ]
    }
   ],
   "source": [
    "# Indexing and Slicing\n",
    "column_A = data['Column_A']\n",
    "print(\"\\nColumn A:\")\n",
    "print(column_A)"
   ]
  },
  {
   "cell_type": "code",
   "execution_count": 7,
   "id": "4fcc23b5-0298-4d85-838d-a5ca385d57a3",
   "metadata": {},
   "outputs": [
    {
     "name": "stdout",
     "output_type": "stream",
     "text": [
      "NumPy [0]: 10.0\n",
      "DataFrame [0]: 10.0\n",
      "DataFrame iloc[-1]: 150.0\n"
     ]
    }
   ],
   "source": [
    "# Accessing elements using indexing in NumPy\n",
    "arr = np.array(data['Column_B'])\n",
    "element_np = arr[0]  \n",
    "print(\"NumPy [0]:\", element_np)\n",
    "\n",
    "# Accessing elements using indexing and iloc in DataFrame\n",
    "element_df = data['Column_B'].iloc[0]  \n",
    "print(\"DataFrame [0]:\", element_df)\n",
    "\n",
    "# Accessing elements using indexing and iloc in DataFrame for the last element\n",
    "element_last_df = data['Column_B'].iloc[-1]  \n",
    "print(\"DataFrame iloc[-1]:\", element_last_df)"
   ]
  },
  {
   "cell_type": "code",
   "execution_count": 8,
   "id": "40701231-b1fe-46e1-a858-8ffadad6b976",
   "metadata": {},
   "outputs": [
    {
     "name": "stdout",
     "output_type": "stream",
     "text": [
      "NumPy arr[1:4]: [20. 30. 40.]\n",
      "NumPy arr[:3]: [10. 20. 30.]\n",
      "DataFrame['Column_B'][1:4]: 1    20.0\n",
      "2    30.0\n",
      "3    40.0\n",
      "Name: Column_B, dtype: float64\n",
      "DataFrame['Column_B'][:3]: 0    10.0\n",
      "1    20.0\n",
      "2    30.0\n",
      "Name: Column_B, dtype: float64\n"
     ]
    }
   ],
   "source": [
    "# Slicing in NumPy\n",
    "arr = np.array(data['Column_B'])\n",
    "slice_1_np = arr[1:4]  # Get elements from index 1 to index 3 (20, 30, 40)\n",
    "print(\"NumPy arr[1:4]:\", slice_1_np)\n",
    "slice_2_np = arr[:3]  # Get elements from the beginning up to index 2 (10, 20, 30)\n",
    "print(\"NumPy arr[:3]:\", slice_2_np)\n",
    "\n",
    "\n",
    "# Slicing in DataFrame\n",
    "slice_1_df = data['Column_B'][1:4]  # Get elements from index 1 to index 3 in 'Column_B'\n",
    "print(\"DataFrame['Column_B'][1:4]:\", slice_1_df)\n",
    "slice_2_df = data['Column_B'][:3]  # Get elements from the beginning up to index 2 in 'Column_B'\n",
    "print(\"DataFrame['Column_B'][:3]:\", slice_2_df)\n"
   ]
  },
  {
   "cell_type": "code",
   "execution_count": 9,
   "id": "0476dd98-4454-46a0-a459-c26f838aeea9",
   "metadata": {},
   "outputs": [
    {
     "name": "stdout",
     "output_type": "stream",
     "text": [
      "\n",
      "Broadcasting - Adding a constant value to Column B:\n",
      "    Column_A  Column_B  Column_C\n",
      "0          1      20.0     100.0\n",
      "1          2      30.0     200.0\n",
      "2          3      40.0     300.0\n",
      "3          4      50.0     400.0\n",
      "4          5      60.0     500.0\n",
      "5          6      70.0     600.0\n",
      "6          7      80.0       NaN\n",
      "7          8      90.0     800.0\n",
      "8          9     100.0     900.0\n",
      "9         10     110.0    1000.0\n",
      "10        11       NaN    1100.0\n",
      "11        12     130.0    1200.0\n",
      "12        13     140.0    1300.0\n",
      "13        14     150.0    1400.0\n",
      "14        15     160.0    1500.0\n"
     ]
    }
   ],
   "source": [
    "# Broadcasting\n",
    "# Assume you want to add a constant value to all elements in 'Column_B'\n",
    "constant_value = 10\n",
    "data['Column_B'] = data['Column_B'] + constant_value\n",
    "print(\"\\nBroadcasting - Adding a constant value to Column B:\")\n",
    "print(data)"
   ]
  },
  {
   "cell_type": "code",
   "execution_count": 10,
   "id": "6430a3d8-2ef8-4478-9cac-222ab45456ab",
   "metadata": {},
   "outputs": [
    {
     "name": "stdout",
     "output_type": "stream",
     "text": [
      "\n",
      "Dataset after removing null values:\n",
      "    Column_A  Column_B  Column_C\n",
      "0          1      20.0     100.0\n",
      "1          2      30.0     200.0\n",
      "2          3      40.0     300.0\n",
      "3          4      50.0     400.0\n",
      "4          5      60.0     500.0\n",
      "5          6      70.0     600.0\n",
      "7          8      90.0     800.0\n",
      "8          9     100.0     900.0\n",
      "9         10     110.0    1000.0\n",
      "11        12     130.0    1200.0\n",
      "12        13     140.0    1300.0\n",
      "13        14     150.0    1400.0\n",
      "14        15     160.0    1500.0\n"
     ]
    }
   ],
   "source": [
    "# Remove null values\n",
    "# Assuming 'NaN' represents null values in your dataset\n",
    "cleaned_data = data.dropna()\n",
    "print(\"\\nDataset after removing null values:\")\n",
    "print(cleaned_data)"
   ]
  },
  {
   "cell_type": "code",
   "execution_count": null,
   "id": "778500f6-41fc-4386-8522-9c2d1c9d760a",
   "metadata": {},
   "outputs": [],
   "source": []
  },
  {
   "cell_type": "code",
   "execution_count": null,
   "id": "140b3132-60f2-471c-acaf-0ca926e61b8d",
   "metadata": {},
   "outputs": [],
   "source": []
  },
  {
   "cell_type": "code",
   "execution_count": null,
   "id": "010609d7-8d86-42ee-aec1-b5011af439d3",
   "metadata": {},
   "outputs": [],
   "source": []
  },
  {
   "cell_type": "code",
   "execution_count": null,
   "id": "fa37aeb9-91bc-4830-a6cc-6e84589ff107",
   "metadata": {},
   "outputs": [],
   "source": []
  }
 ],
 "metadata": {
  "kernelspec": {
   "display_name": "Python 3 (ipykernel)",
   "language": "python",
   "name": "python3"
  },
  "language_info": {
   "codemirror_mode": {
    "name": "ipython",
    "version": 3
   },
   "file_extension": ".py",
   "mimetype": "text/x-python",
   "name": "python",
   "nbconvert_exporter": "python",
   "pygments_lexer": "ipython3",
   "version": "3.11.4"
  }
 },
 "nbformat": 4,
 "nbformat_minor": 5
}
